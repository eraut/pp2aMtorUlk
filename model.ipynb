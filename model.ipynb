{
 "cells": [
  {
   "cell_type": "code",
   "execution_count": null,
   "metadata": {},
   "outputs": [],
   "source": [
    "import numpy as np\n",
    "from scipy.integrate import odeint as oi\n",
    "from matplotlib import pyplot as plt"
   ]
  },
  {
   "cell_type": "code",
   "execution_count": null,
   "metadata": {},
   "outputs": [],
   "source": [
    "def model(x, t, p):\n",
    "    #rapamycin treatment: mTOR_tot=0.1 \n",
    "    mTOR_tot = 1\n",
    "    #siULK1: ULK1_tot=0.01 reduced ULK1: ULK1_tot=0.3\n",
    "    ULK1_tot = 1\n",
    "    #siPP2A: PP2A_tot=0.01 Okadaic acid: PP2A_tot=0.1\n",
    "    PP2A_tot = 1\n",
    "\n",
    "    mTOR = x[0] \n",
    "    ULK1 = x[1]\n",
    "    PP2A = x[2]\n",
    "    \n",
    "    kamtor = 1.5\n",
    "    kimtor = 0.01\n",
    "    kaulk = 0.15\n",
    "    kiulk = 0.15\n",
    "    kapp2 = 0.15\n",
    "    kipp2 = 0.15\n",
    "\n",
    "    kimtor1 = p[0]\n",
    "    kimtor2 = p[1]\n",
    "    kaulk1 = p[2]\n",
    "    kiulk1 = p[3]\n",
    "    kapp21 = p[4]\n",
    "    kipp22 = p[5]\n",
    "    \n",
    "    dmTORdt = kamtor*(mTOR_tot-mTOR)-kimtor*mTOR-kimtor1*mTOR*ULK1-kimtor2*mTOR*PP2A\n",
    "    dULK1dt = kaulk*(ULK1_tot-ULK1)-kiulk*ULK1+kaulk1*(ULK1_tot-ULK1)*PP2A-kiulk1*ULK1*mTOR\n",
    "    dPP2Adt = kapp2*(PP2A_tot-PP2A)-kipp2*PP2A+kapp21*(PP2A_tot-PP2A)*ULK1-kipp22*PP2A*mTOR\n",
    "    \n",
    "    dxdt = [dmTORdt, dULK1dt, dPP2Adt]\n",
    "    \n",
    "    return dxdt"
   ]
  },
  {
   "cell_type": "code",
   "execution_count": null,
   "metadata": {},
   "outputs": [],
   "source": [
    "t = np.arange(0, 60, 0.01)\n",
    "\n",
    "IC = [0.9,0.1,0.1]\n",
    "params=[5.16733842, 0.01, 2.85833946,  9.74873293, 14.4792405, 46.40777268]\n",
    "\n",
    "z = oi(model, IC, t, args=(params,)).T\n",
    "\n",
    "title = 'Homeostasis'\n",
    "font=25\n",
    "plt.ylim(0,1)\n",
    "plt.rc('xtick',labelsize=25)\n",
    "plt.rc('ytick',labelsize=25)\n",
    "plt.rcParams[\"figure.figsize\"] = [10.4, 6.8]\n",
    "plt.rcParams[\"figure.dpi\"] = 40\n",
    "plt.rcParams[\"figure.facecolor\"]=(1,1,1)\n",
    "\n",
    "plt.title(title,fontsize = font*1.5)\n",
    "plt.xlabel('time [min]', fontsize=font)\n",
    "plt.ylabel('relative activity',fontsize=font)\n",
    "plt.plot(t, z[0], '-', color='orange',label='mTORC1')\n",
    "plt.plot(t, z[1], 'g-',label = 'ULK1')\n",
    "plt.plot(t, z[2], 'b-',label='PP2A')\n",
    "plt.legend(fontsize=font)\n",
    "plt.savefig('./figures/'+title)\n",
    "plt.show()\n"
   ]
  },
  {
   "cell_type": "code",
   "execution_count": null,
   "metadata": {},
   "outputs": [],
   "source": []
  }
 ],
 "metadata": {
  "kernelspec": {
   "display_name": "Python 3.9.12 ('base')",
   "language": "python",
   "name": "python3"
  },
  "language_info": {
   "codemirror_mode": {
    "name": "ipython",
    "version": 3
   },
   "file_extension": ".py",
   "mimetype": "text/x-python",
   "name": "python",
   "nbconvert_exporter": "python",
   "pygments_lexer": "ipython3",
   "version": "3.9.12"
  },
  "orig_nbformat": 4,
  "vscode": {
   "interpreter": {
    "hash": "61ab6b5529a09aea1f81fd69f23a915385900cac84ab41fe77d516afe6e6d9e9"
   }
  }
 },
 "nbformat": 4,
 "nbformat_minor": 2
}
